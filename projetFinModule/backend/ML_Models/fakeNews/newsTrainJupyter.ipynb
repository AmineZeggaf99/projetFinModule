{
 "cells": [
  {
   "cell_type": "code",
   "execution_count": 620,
   "id": "4779db18",
   "metadata": {},
   "outputs": [],
   "source": [
    "import pandas as pd\n",
    "import numpy as np\n",
    "from sklearn.linear_model import PassiveAggressiveClassifier\n",
    "from sklearn.model_selection import train_test_split\n",
    "from sklearn.feature_extraction.text import TfidfVectorizer\n",
    "from sklearn.naive_bayes import GaussianNB\n",
    "from sklearn.preprocessing import OneHotEncoder\n",
    "\n",
    "from test import LabelEncoderExt \n",
    "\n",
    "\n"
   ]
  },
  {
   "cell_type": "code",
   "execution_count": 621,
   "id": "69fa0077",
   "metadata": {},
   "outputs": [
    {
     "name": "stdout",
     "output_type": "stream",
     "text": [
      "['le coronavirus est transmis par la nourriture chinoise'\n",
      " 'il y a de risque avec les colis envoyés de Chine'\n",
      " 'Le vaccin peut provoquer un résultat positif lors d’un test de dépistage'\n",
      " ...\n",
      " 'Fêtes de fin dannée :faut-il se faire tester avant de retrouver ses proches '\n",
      " 'Campagne massive de tests : Ça ne doit pas faire reculer le dépistage des gens symptomatiques, sinquiète une infectiologue'\n",
      " 'Déconfinement : coup dur pour le monde de la culture']\n"
     ]
    }
   ],
   "source": [
    "#importer les données\n",
    "dSet = pd.read_csv('news.csv', sep = ';')\n",
    "\n",
    "\n",
    "\n",
    "print(dSet.news.values)"
   ]
  },
  {
   "cell_type": "code",
   "execution_count": 622,
   "id": "7ea54041",
   "metadata": {},
   "outputs": [],
   "source": [
    "#transformations des news qui est en string, en colonne numeric pour qu'on puisse l'entrainer avec notre model Gaussien\n",
    "\n",
    "labelencoder = LabelEncoderExt ()\n",
    "labelencoder.fit(dSet.news.values)\n",
    "\n",
    "dSet['news'] = labelencoder.transform(dSet.news.values)\n",
    "\n",
    "dSet = dSet.sample(frac=1)\n",
    "\n"
   ]
  },
  {
   "cell_type": "code",
   "execution_count": 623,
   "id": "fe777783",
   "metadata": {},
   "outputs": [],
   "source": [
    "X=dSet.drop(columns=['label','source'])\n",
    "Y=dSet['label']\n",
    "\n",
    "\n",
    "X_train, X_test, y_train, y_test = train_test_split(X,Y,test_size=0.2)\n"
   ]
  },
  {
   "cell_type": "code",
   "execution_count": 624,
   "id": "1540daf4",
   "metadata": {},
   "outputs": [
    {
     "data": {
      "text/plain": [
       "GaussianNB()"
      ]
     },
     "execution_count": 624,
     "metadata": {},
     "output_type": "execute_result"
    }
   ],
   "source": [
    "#Create a Gaussian Classifier\n",
    "model = GaussianNB()\n",
    "\n",
    "# Train the model using the training sets\n",
    "model.fit(X_train,y_train)"
   ]
  },
  {
   "cell_type": "code",
   "execution_count": 625,
   "id": "4244f7a6",
   "metadata": {},
   "outputs": [
    {
     "name": "stdout",
     "output_type": "stream",
     "text": [
      "Accuracy: 64.35%\n"
     ]
    }
   ],
   "source": [
    "\n",
    "# Calculer l'accruracy du model\n",
    "accuracy=model.score(X_test,y_test)\n",
    "\n",
    "print(f'Accuracy: {round(accuracy*100,2)}%')\n"
   ]
  },
  {
   "cell_type": "code",
   "execution_count": 626,
   "id": "fe1ed7f7",
   "metadata": {},
   "outputs": [
    {
     "name": "stdout",
     "output_type": "stream",
     "text": [
      "['Les réseaux mobiles 5G diffusent le coronavirus COVID-19'] Correct news\n"
     ]
    }
   ],
   "source": [
    "# petit test du model\n",
    "x = [\"Les réseaux mobiles 5G diffusent le coronavirus COVID-19\"]\n",
    "\n",
    "x_encoded=labelencoder.transform(x)\n",
    "\n",
    "predicted= model.predict(x_encoded.reshape(1,-1))\n",
    "\n",
    "if(predicted==0):\n",
    "    print(x,\"Fake news\")\n",
    "else:\n",
    "    print(x,\"Correct news\")"
   ]
  },
  {
   "cell_type": "code",
   "execution_count": 627,
   "id": "3cfcca49",
   "metadata": {},
   "outputs": [],
   "source": [
    "import pickle\n",
    "\n",
    "# save\n",
    "with open('fakeNewsDetector.pkl','wb') as f:\n",
    "    pickle.dump(model,f)"
   ]
  },
  {
   "cell_type": "code",
   "execution_count": 628,
   "id": "28cb18a7",
   "metadata": {},
   "outputs": [
    {
     "data": {
      "text/plain": [
       "array([1], dtype=int64)"
      ]
     },
     "execution_count": 628,
     "metadata": {},
     "output_type": "execute_result"
    }
   ],
   "source": [
    "with open('fakeNewsDetector.pkl', 'rb') as f:\n",
    "    model2 = pickle.load(f)\n",
    "\n",
    "model2.predict(x_encoded.reshape(1,-1))"
   ]
  }
 ],
 "metadata": {
  "kernelspec": {
   "display_name": "Python 3",
   "language": "python",
   "name": "python3"
  },
  "language_info": {
   "codemirror_mode": {
    "name": "ipython",
    "version": 3
   },
   "file_extension": ".py",
   "mimetype": "text/x-python",
   "name": "python",
   "nbconvert_exporter": "python",
   "pygments_lexer": "ipython3",
   "version": "3.9.5"
  }
 },
 "nbformat": 4,
 "nbformat_minor": 5
}
